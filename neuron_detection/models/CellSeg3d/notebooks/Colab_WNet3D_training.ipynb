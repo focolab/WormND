{
  "cells": [
    {
      "cell_type": "markdown",
      "metadata": {
        "colab_type": "text",
        "id": "view-in-github"
      },
      "source": [
        "<a href=\"https://colab.research.google.com/github/AdaptiveMotorControlLab/CellSeg3d/blob/main/notebooks/Colab_WNet3D_training.ipynb\" target=\"_parent\"><img src=\"https://colab.research.google.com/assets/colab-badge.svg\" alt=\"Open In Colab\"/></a>"
      ]
    },
    {
      "cell_type": "markdown",
      "metadata": {
        "id": "BTUVNXX7R3Go"
      },
      "source": [
        "# **WNet3D: self-supervised 3D cell segmentation**\n",
        "\n",
        "---\n",
        "\n",
        "This notebook is part of the [CellSeg3D project](https://github.com/AdaptiveMotorControlLab/CellSeg3d) in the [Mathis Lab of Adaptive Intelligence](https://www.mackenziemathislab.org/).\n",
        "\n",
        "- 💜 The foundation of this notebook owes much to the **[ZeroCostDL4Mic](https://github.com/HenriquesLab/ZeroCostDL4Mic)** project and to the **[DeepLabCut](https://github.com/DeepLabCut/DeepLabCut)** team for bringing Colab into scientific open software."
      ]
    },
    {
      "cell_type": "markdown",
      "metadata": {
        "id": "zmVCksV0EfVT"
      },
      "source": [
        "#**1. Installing dependencies**\n",
        "---"
      ]
    },
    {
      "cell_type": "code",
      "execution_count": 1,
      "metadata": {
        "id": "td_vf_pneSak"
      },
      "outputs": [],
      "source": [
        "#@markdown ##Play to install WNet dependencies\n",
        "# !pip install napari-cellseg3d"
      ]
    },
    {
      "cell_type": "markdown",
      "metadata": {
        "id": "nqctRognFGDT"
      },
      "source": [
        "##**1.2 Load key dependencies**\n",
        "---"
      ]
    },
    {
      "cell_type": "code",
      "execution_count": 1,
      "metadata": {
        "colab": {
          "base_uri": "https://localhost:8080/"
        },
        "id": "wOOhJjkxjXz-",
        "outputId": "8f94416d-a482-4ec6-f980-a728e908d90d"
      },
      "outputs": [],
      "source": [
        "# @title\n",
        "from pathlib import Path\n",
        "from napari_cellseg3d.dev_scripts import colab_training as c\n",
        "from napari_cellseg3d.config import WNetTrainingWorkerConfig, WandBConfig, WeightsInfo, PRETRAINED_WEIGHTS_DIR"
      ]
    },
    {
      "cell_type": "markdown",
      "metadata": {
        "id": "Ax-vJAWRwIKi"
      },
      "source": [
        "## (optional) **1.3 Initialize Weights & Biases integration **\n",
        "---\n",
        "If you wish to utilize Weights & Biases (WandB) for monitoring and logging your training session, execute the cell below.\n",
        "To enable it, just input your API key in the space provided."
      ]
    },
    {
      "cell_type": "markdown",
      "metadata": {
        "id": "Zi9gRBHFFyX-"
      },
      "source": [
        "# **2. Complete the Colab session**\n",
        "---\n"
      ]
    },
    {
      "cell_type": "markdown",
      "metadata": {
        "id": "zSU-LYTfFnvF"
      },
      "source": [
        "\n",
        "## **2.1. Check for GPU access**\n",
        "---\n",
        "\n",
        "By default, this session is configured to use Python 3 and GPU acceleration. To verify or adjust these settings:\n",
        "\n",
        "<font size = 4>Navigate to Runtime and select Change the Runtime type.\n",
        "\n",
        "<font size = 4>For Runtime type, ensure it's set to Python 3 (the programming language this program is written in).\n",
        "\n",
        "<font size = 4>Under Accelerator, choose GPU (Graphics Processing Unit).\n"
      ]
    },
    {
      "cell_type": "code",
      "execution_count": 2,
      "metadata": {
        "colab": {
          "base_uri": "https://localhost:8080/"
        },
        "id": "Ie7bXiMgFtPH",
        "outputId": "3276444c-5109-47b4-f507-ea9acaab15ad"
      },
      "outputs": [
        {
          "name": "stdout",
          "output_type": "stream",
          "text": [
            "You do not have GPU access.\n",
            "Did you change your runtime?\n",
            "If the runtime setting is correct then Google did not allocate a GPU for your session\n",
            "Expect slow performance. To access GPU try reconnecting later\n"
          ]
        }
      ],
      "source": [
        "#@markdown ##Execute the cell below to verify if GPU access is available.\n",
        "\n",
        "import torch\n",
        "if not torch.cuda.is_available():\n",
        "  print('You do not have GPU access.')\n",
        "  print('Did you change your runtime?')\n",
        "  print('If the runtime setting is correct then Google did not allocate a GPU for your session')\n",
        "  print('Expect slow performance. To access GPU try reconnecting later')\n",
        "\n",
        "else:\n",
        "  print('You have GPU access')\n",
        "  !nvidia-smi\n"
      ]
    },
    {
      "cell_type": "code",
      "execution_count": 3,
      "metadata": {},
      "outputs": [
        {
          "name": "stdout",
          "output_type": "stream",
          "text": [
            "/home/th3129/.conda/envs/napari_CellSeg3D_ARM64/bin:/home/th3129/.vscode-server/cli/servers/Stable-dc96b837cf6bb4af9cd736aa3af08cf8279f7685/server/bin/remote-cli:/share/apps/singularity/bin:/share/apps/anaconda3/2020.07/bin:/share/apps/anaconda3/2020.07/condabin:/home/th3129/.local/bin:/home/th3129/bin:/share/apps/singularity/bin:/usr/local/bin:/usr/bin:/usr/local/sbin:/usr/sbin:/share/apps/local/bin:/usr/lpp/mmfs/bin:/opt/slurm/bin:/share/apps/local/bin:/home/th3129/.vscode-server/cli/servers/Stable-dc96b837cf6bb4af9cd736aa3af08cf8279f7685/server/bin/remote-cli:/share/apps/singularity/bin:/share/apps/anaconda3/2020.07/bin:/share/apps/anaconda3/2020.07/condabin:/home/th3129/.local/bin:/home/th3129/bin:/share/apps/singularity/bin:/usr/local/bin:/usr/bin:/usr/local/sbin:/usr/sbin:/share/apps/local/bin:/usr/lpp/mmfs/bin:/opt/slurm/bin:/share/apps/local/bin\n"
          ]
        }
      ],
      "source": [
        "import os\n",
        "\n",
        "print(os.environ.get('PATH'))"
      ]
    },
    {
      "cell_type": "code",
      "execution_count": 4,
      "metadata": {},
      "outputs": [
        {
          "data": {
            "text/plain": [
              "False"
            ]
          },
          "execution_count": 4,
          "metadata": {},
          "output_type": "execute_result"
        }
      ],
      "source": [
        "torch.cuda.is_available()"
      ]
    },
    {
      "cell_type": "markdown",
      "metadata": {
        "id": "X_bbk7RAF2yw"
      },
      "source": [
        "## **2.2. Mount Google Drive**\n",
        "---\n",
        "<font size = 4>To integrate this notebook with your personal data, save your data on Google Drive in accordance with the directory structures detailed in Section 0.\n",
        "\n",
        "1. <font size = 4> **Run** the **cell** below and click on the provided link.\n",
        "\n",
        "2. <font size = 4>Log in to your Google account and grant the necessary permissions by clicking 'Allow'.\n",
        "\n",
        "3. <font size = 4>Copy the generated authorization code and paste it into the cell, then press 'Enter'. This grants Colab access to read and write data to your Google Drive.\n",
        "\n",
        "4. <font size = 4> After completion, you can view your data in the notebook. Simply click the Files tab on the top left and select 'Refresh'."
      ]
    },
    {
      "cell_type": "code",
      "execution_count": 4,
      "metadata": {
        "colab": {
          "base_uri": "https://localhost:8080/"
        },
        "id": "AsIARCablq1V",
        "outputId": "77ffdbd1-4c89-4a56-e3da-7777a607a328"
      },
      "outputs": [],
      "source": [
        "# # mount user's Google Drive to Google Colab.\n",
        "# from google.colab import drive\n",
        "# drive.mount('/content/gdrive')"
      ]
    },
    {
      "cell_type": "markdown",
      "metadata": {
        "id": "r6FI22lkQLTv"
      },
      "source": [
        "**<font size = 4> If you cannot see your files, reactivate your session by connecting to your hosted runtime.**\n",
        "\n",
        "\n",
        "<img width=\"40%\" alt =\"Example of image detection with retinanet.\" src=\"https://github.com/HenriquesLab/ZeroCostDL4Mic/raw/master/Wiki_files/connect_to_hosted.png\"><figcaption> Connect to a hosted runtime. </figcaption>"
      ]
    },
    {
      "cell_type": "code",
      "execution_count": 5,
      "metadata": {
        "id": "EtsK08ECwlnJ"
      },
      "outputs": [],
      "source": [
        "# @title\n",
        "# import wandb\n",
        "# wandb.login()"
      ]
    },
    {
      "cell_type": "markdown",
      "metadata": {
        "id": "IkOpxYjaGM0m"
      },
      "source": [
        "# **3. Select your parameters and paths**\n",
        "---"
      ]
    },
    {
      "cell_type": "markdown",
      "metadata": {
        "id": "65FhTkYlGKRt"
      },
      "source": [
        "## **3.1. Choosing parameters**\n",
        "\n",
        "---\n",
        "\n",
        "### **Paths to the training data and model**\n",
        "\n",
        "* <font size = 4>**`training_source`** specifies the paths to the training data. They must be a single multipage TIF file each\n",
        "\n",
        "* <font size = 4>**`model_path`** specifies the directory where the model checkpoints will be saved.\n",
        "\n",
        "<font size = 4>**Tip:** To easily copy paths, navigate to the 'Files' tab, right-click on a folder or file, and choose 'Copy path'.\n",
        "\n",
        "### **Training parameters**\n",
        "\n",
        "* <font size = 4>**`number_of_epochs`** is the number of times the entire training data will be seen by the model. Default: 50\n",
        "\n",
        "* <font size = 4>**`batchs_size`** is the number of image that will be bundled together at each training step. Default: 4\n",
        "\n",
        "* <font size = 4>**`learning_rate`** is the step size of the update of the model's weight. Try decreasing it if the NCuts loss is unstable. Default: 2e-5\n",
        "\n",
        "* <font size = 4>**`num_classes`** is the number of brightness clusters to segment the image in. Try raising it to 3 if you have artifacts or \"halos\" around your cells that have significantly different brightness. Default: 2\n",
        "\n",
        "* <font size = 4>**`weight_decay`** is a regularization parameter used to prevent overfitting. Default: 0.01\n",
        "\n",
        "* <font size = 4>**`validation_frequency`** is the frequency at which the provided evaluation data is used to estimate the model's performance.\n",
        "\n",
        "* <font size = 4>**`intensity_sigma`** is the standard deviation of the feature similarity term. Default: 1\n",
        "\n",
        "* <font size = 4>**`spatial_sigma`** is the standard deviation of the spatial proximity term. Default: 4\n",
        "\n",
        "* <font size = 4>**`ncuts_radius`** is the radius for the NCuts loss computation, in pixels. Default: 2\n",
        "\n",
        "* <font size = 4>**`rec_loss`** is the loss to use for the decoder. Can be Mean Square Error (MSE) or Binary Cross Entropy (BCE). Default : MSE\n",
        "\n",
        "* <font size = 4>**`n_cuts_weight`** is the weight of the NCuts loss in the weighted sum for the backward pass. Default: 0.5\n",
        "* <font size = 4>**`rec_loss_weight`** is the weight of the reconstruction loss. Default: 0.005\n"
      ]
    },
    {
      "cell_type": "code",
      "execution_count": 6,
      "metadata": {
        "cellView": "form",
        "id": "tTSCC6ChGuuA"
      },
      "outputs": [],
      "source": [
        "#@markdown ###Path to the training data:\n",
        "training_source = \"/scratch/th3129/wormID/datasets/000541/sub-20190924-01\" #@param {type:\"string\"}\n",
        "#@markdown ###Model name and path to model folder:\n",
        "model_path = \"/scratch/th3129/wormID/results\" #@param {type:\"string\"}\n",
        "#@markdown ---\n",
        "#@markdown ###Perform validation on a test dataset\n",
        "do_validation = False #@param {type:\"boolean\"}\n",
        "#@markdown ###Path to evaluation data (optional, use if checked above):\n",
        "eval_source = \"./gdrive/MyDrive/CELLSEG_BENCHMARK/DATA/WNET/eval/vol/\" #@param {type:\"string\"}\n",
        "eval_target = \"./gdrive/MyDrive/CELLSEG_BENCHMARK/DATA/WNET/eval/lab/\" #@param {type:\"string\"}\n",
        "#@markdown ---\n",
        "#@markdown ###Training parameters\n",
        "number_of_epochs = 50 #@param {type:\"number\"}\n",
        "#@markdown ###Default advanced parameters\n",
        "use_default_advanced_parameters = False #@param {type:\"boolean\"}\n",
        "#@markdown <font size = 4>If not, please change:\n",
        "\n",
        "#@markdown <font size = 3>Training parameters:\n",
        "batch_size =  4 #@param {type:\"number\"}\n",
        "learning_rate = 2e-5 #@param {type:\"number\"}\n",
        "num_classes = 2 #@param {type:\"number\"}\n",
        "weight_decay = 0.01 #@param {type:\"number\"}\n",
        "#@markdown <font size = 3>Validation parameters:\n",
        "validation_frequency = 2 #@param {type:\"number\"}\n",
        "#@markdown <font size = 3>SoftNCuts parameters:\n",
        "intensity_sigma = 1.0 #@param {type:\"number\"}\n",
        "spatial_sigma = 4.0 #@param {type:\"number\"}\n",
        "ncuts_radius = 2 #@param {type:\"number\"}\n",
        "#@markdown <font size = 3>Reconstruction loss:\n",
        "rec_loss = \"MSE\" #@param[\"MSE\", \"BCE\"]\n",
        "#@markdown <font size = 3>Weighted sum of losses:\n",
        "n_cuts_weight = 0.5 #@param {type:\"number\"}\n",
        "rec_loss_weight = 0.005 #@param {type:\"number\"}"
      ]
    },
    {
      "cell_type": "markdown",
      "metadata": {
        "id": "HtoIo5GcKIXX"
      },
      "source": []
    },
    {
      "cell_type": "markdown",
      "metadata": {
        "id": "arWhMU6aKsri"
      },
      "source": [
        "# **4. Train the network**\n",
        "---\n",
        "\n",
        "<font size = 4>Important Reminder: Google Colab imposes a maximum session time to prevent extended GPU usage, such as for data mining. Ensure your training duration stays under 12 hours. If your training is projected to exceed this limit, consider reducing the `number_of_epochs`."
      ]
    },
    {
      "cell_type": "markdown",
      "metadata": {
        "id": "L59J90S_Kva3"
      },
      "source": [
        "## **4.1. Initialize the config**\n",
        "---"
      ]
    },
    {
      "cell_type": "code",
      "execution_count": 7,
      "metadata": {
        "id": "YOgLyUwPjvUX"
      },
      "outputs": [
        {
          "name": "stderr",
          "output_type": "stream",
          "text": [
            "No files found in /scratch/th3129/wormID/datasets/000541/sub-20190924-01\n"
          ]
        },
        {
          "ename": "TypeError",
          "evalue": "object of type 'NoneType' has no len()",
          "output_type": "error",
          "traceback": [
            "\u001b[0;31m---------------------------------------------------------------------------\u001b[0m",
            "\u001b[0;31mTypeError\u001b[0m                                 Traceback (most recent call last)",
            "Cell \u001b[0;32mIn[7], line 40\u001b[0m\n\u001b[1;32m     16\u001b[0m \u001b[38;5;28;01mexcept\u001b[39;00m \u001b[38;5;167;01mImportError\u001b[39;00m:\n\u001b[1;32m     17\u001b[0m   WANDB_INSTALLED \u001b[38;5;241m=\u001b[39m \u001b[38;5;28;01mFalse\u001b[39;00m\n\u001b[1;32m     20\u001b[0m train_config \u001b[38;5;241m=\u001b[39m WNetTrainingWorkerConfig(\n\u001b[1;32m     21\u001b[0m     device\u001b[38;5;241m=\u001b[39m\u001b[38;5;124m\"\u001b[39m\u001b[38;5;124mcuda:0\u001b[39m\u001b[38;5;124m\"\u001b[39m,\n\u001b[1;32m     22\u001b[0m     max_epochs\u001b[38;5;241m=\u001b[39mnumber_of_epochs,\n\u001b[1;32m     23\u001b[0m     learning_rate\u001b[38;5;241m=\u001b[39m\u001b[38;5;241m2e-5\u001b[39m,\n\u001b[1;32m     24\u001b[0m     validation_interval\u001b[38;5;241m=\u001b[39m\u001b[38;5;241m2\u001b[39m,\n\u001b[1;32m     25\u001b[0m     batch_size\u001b[38;5;241m=\u001b[39m\u001b[38;5;241m4\u001b[39m,\n\u001b[1;32m     26\u001b[0m     num_workers\u001b[38;5;241m=\u001b[39m\u001b[38;5;241m2\u001b[39m,\n\u001b[1;32m     27\u001b[0m     weights_info\u001b[38;5;241m=\u001b[39mWeightsInfo(),\n\u001b[1;32m     28\u001b[0m     results_path_folder\u001b[38;5;241m=\u001b[39m\u001b[38;5;28mstr\u001b[39m(results_path),\n\u001b[1;32m     29\u001b[0m     train_data_dict\u001b[38;5;241m=\u001b[39mc\u001b[38;5;241m.\u001b[39mcreate_dataset_dict_no_labs(train_data_folder),\n\u001b[1;32m     30\u001b[0m     eval_volume_dict\u001b[38;5;241m=\u001b[39meval_dict,\n\u001b[1;32m     31\u001b[0m ) \u001b[38;5;28;01mif\u001b[39;00m use_default_advanced_parameters \u001b[38;5;28;01melse\u001b[39;00m WNetTrainingWorkerConfig(\n\u001b[1;32m     32\u001b[0m     device\u001b[38;5;241m=\u001b[39m\u001b[38;5;124m\"\u001b[39m\u001b[38;5;124mcuda:0\u001b[39m\u001b[38;5;124m\"\u001b[39m,\n\u001b[1;32m     33\u001b[0m     max_epochs\u001b[38;5;241m=\u001b[39mnumber_of_epochs,\n\u001b[1;32m     34\u001b[0m     learning_rate\u001b[38;5;241m=\u001b[39mlearning_rate,\n\u001b[1;32m     35\u001b[0m     validation_interval\u001b[38;5;241m=\u001b[39mvalidation_frequency,\n\u001b[1;32m     36\u001b[0m     batch_size\u001b[38;5;241m=\u001b[39mbatch_size,\n\u001b[1;32m     37\u001b[0m     num_workers\u001b[38;5;241m=\u001b[39m\u001b[38;5;241m2\u001b[39m,\n\u001b[1;32m     38\u001b[0m     weights_info\u001b[38;5;241m=\u001b[39mWeightsInfo(),\n\u001b[1;32m     39\u001b[0m     results_path_folder\u001b[38;5;241m=\u001b[39m\u001b[38;5;28mstr\u001b[39m(results_path),\n\u001b[0;32m---> 40\u001b[0m     train_data_dict\u001b[38;5;241m=\u001b[39m\u001b[43mc\u001b[49m\u001b[38;5;241;43m.\u001b[39;49m\u001b[43mcreate_dataset_dict_no_labs\u001b[49m\u001b[43m(\u001b[49m\u001b[43mtrain_data_folder\u001b[49m\u001b[43m)\u001b[49m,\n\u001b[1;32m     41\u001b[0m     eval_volume_dict\u001b[38;5;241m=\u001b[39meval_dict,\n\u001b[1;32m     42\u001b[0m     \u001b[38;5;66;03m# advanced\u001b[39;00m\n\u001b[1;32m     43\u001b[0m     num_classes\u001b[38;5;241m=\u001b[39mnum_classes,\n\u001b[1;32m     44\u001b[0m     weight_decay\u001b[38;5;241m=\u001b[39mweight_decay,\n\u001b[1;32m     45\u001b[0m     intensity_sigma\u001b[38;5;241m=\u001b[39mintensity_sigma,\n\u001b[1;32m     46\u001b[0m     spatial_sigma\u001b[38;5;241m=\u001b[39mspatial_sigma,\n\u001b[1;32m     47\u001b[0m     radius\u001b[38;5;241m=\u001b[39mncuts_radius,\n\u001b[1;32m     48\u001b[0m     reconstruction_loss\u001b[38;5;241m=\u001b[39mrec_loss,\n\u001b[1;32m     49\u001b[0m     n_cuts_weight\u001b[38;5;241m=\u001b[39mn_cuts_weight,\n\u001b[1;32m     50\u001b[0m     rec_loss_weight\u001b[38;5;241m=\u001b[39mrec_loss_weight,\n\u001b[1;32m     51\u001b[0m )\n\u001b[1;32m     52\u001b[0m wandb_config \u001b[38;5;241m=\u001b[39m WandBConfig(\n\u001b[1;32m     53\u001b[0m     mode\u001b[38;5;241m=\u001b[39m\u001b[38;5;124m\"\u001b[39m\u001b[38;5;124mdisabled\u001b[39m\u001b[38;5;124m\"\u001b[39m \u001b[38;5;28;01mif\u001b[39;00m \u001b[38;5;129;01mnot\u001b[39;00m WANDB_INSTALLED \u001b[38;5;28;01melse\u001b[39;00m \u001b[38;5;124m\"\u001b[39m\u001b[38;5;124monline\u001b[39m\u001b[38;5;124m\"\u001b[39m,\n\u001b[1;32m     54\u001b[0m     save_model_artifact\u001b[38;5;241m=\u001b[39m\u001b[38;5;28;01mFalse\u001b[39;00m,\n\u001b[1;32m     55\u001b[0m )\n",
            "File \u001b[0;32m~/.conda/envs/napari_CellSeg3D_ARM64/lib/python3.9/site-packages/napari_cellseg3d/dev_scripts/colab_training.py:741\u001b[0m, in \u001b[0;36mcreate_dataset_dict_no_labs\u001b[0;34m(volume_directory)\u001b[0m\n\u001b[1;32m    739\u001b[0m     \u001b[38;5;28;01mraise\u001b[39;00m \u001b[38;5;167;01mValueError\u001b[39;00m(\u001b[38;5;124mf\u001b[39m\u001b[38;5;124m\"\u001b[39m\u001b[38;5;124mData folder \u001b[39m\u001b[38;5;132;01m{\u001b[39;00mvolume_directory\u001b[38;5;132;01m}\u001b[39;00m\u001b[38;5;124m does not exist\u001b[39m\u001b[38;5;124m\"\u001b[39m)\n\u001b[1;32m    740\u001b[0m images_filepaths \u001b[38;5;241m=\u001b[39m utils\u001b[38;5;241m.\u001b[39mget_all_matching_files(volume_directory)\n\u001b[0;32m--> 741\u001b[0m \u001b[38;5;28;01mif\u001b[39;00m \u001b[38;5;28;43mlen\u001b[39;49m\u001b[43m(\u001b[49m\u001b[43mimages_filepaths\u001b[49m\u001b[43m)\u001b[49m \u001b[38;5;241m==\u001b[39m \u001b[38;5;241m0\u001b[39m:\n\u001b[1;32m    742\u001b[0m     \u001b[38;5;28;01mraise\u001b[39;00m \u001b[38;5;167;01mValueError\u001b[39;00m(\u001b[38;5;124mf\u001b[39m\u001b[38;5;124m\"\u001b[39m\u001b[38;5;124mData folder \u001b[39m\u001b[38;5;132;01m{\u001b[39;00mvolume_directory\u001b[38;5;132;01m}\u001b[39;00m\u001b[38;5;124m is empty\u001b[39m\u001b[38;5;124m\"\u001b[39m)\n\u001b[1;32m    744\u001b[0m logger\u001b[38;5;241m.\u001b[39minfo(\u001b[38;5;124m\"\u001b[39m\u001b[38;5;124mImages :\u001b[39m\u001b[38;5;124m\"\u001b[39m)\n",
            "\u001b[0;31mTypeError\u001b[0m: object of type 'NoneType' has no len()"
          ]
        }
      ],
      "source": [
        "# @title\n",
        "train_data_folder = Path(training_source)\n",
        "results_path = Path(model_path)\n",
        "results_path.mkdir(exist_ok=True)\n",
        "eval_image_folder = Path(eval_source)\n",
        "eval_label_folder = Path(eval_target)\n",
        "\n",
        "eval_dict = c.create_eval_dataset_dict(\n",
        "        eval_image_folder,\n",
        "        eval_label_folder,\n",
        "    ) if do_validation else None\n",
        "\n",
        "try:\n",
        "  import wandb\n",
        "  WANDB_INSTALLED = True\n",
        "except ImportError:\n",
        "  WANDB_INSTALLED = False\n",
        "\n",
        "\n",
        "train_config = WNetTrainingWorkerConfig(\n",
        "    device=\"cuda:0\",\n",
        "    max_epochs=number_of_epochs,\n",
        "    learning_rate=2e-5,\n",
        "    validation_interval=2,\n",
        "    batch_size=4,\n",
        "    num_workers=2,\n",
        "    weights_info=WeightsInfo(),\n",
        "    results_path_folder=str(results_path),\n",
        "    train_data_dict=c.create_dataset_dict_no_labs(train_data_folder),\n",
        "    eval_volume_dict=eval_dict,\n",
        ") if use_default_advanced_parameters else WNetTrainingWorkerConfig(\n",
        "    device=\"cuda:0\",\n",
        "    max_epochs=number_of_epochs,\n",
        "    learning_rate=learning_rate,\n",
        "    validation_interval=validation_frequency,\n",
        "    batch_size=batch_size,\n",
        "    num_workers=2,\n",
        "    weights_info=WeightsInfo(),\n",
        "    results_path_folder=str(results_path),\n",
        "    train_data_dict=c.create_dataset_dict_no_labs(train_data_folder),\n",
        "    eval_volume_dict=eval_dict,\n",
        "    # advanced\n",
        "    num_classes=num_classes,\n",
        "    weight_decay=weight_decay,\n",
        "    intensity_sigma=intensity_sigma,\n",
        "    spatial_sigma=spatial_sigma,\n",
        "    radius=ncuts_radius,\n",
        "    reconstruction_loss=rec_loss,\n",
        "    n_cuts_weight=n_cuts_weight,\n",
        "    rec_loss_weight=rec_loss_weight,\n",
        ")\n",
        "wandb_config = WandBConfig(\n",
        "    mode=\"disabled\" if not WANDB_INSTALLED else \"online\",\n",
        "    save_model_artifact=False,\n",
        ")"
      ]
    },
    {
      "cell_type": "code",
      "execution_count": null,
      "metadata": {},
      "outputs": [
        {
          "data": {
            "text/plain": [
              "'/scratch/th3129/wormID/models/CellSeg3d/notebooks'"
            ]
          },
          "execution_count": 6,
          "metadata": {},
          "output_type": "execute_result"
        }
      ],
      "source": [
        "import os\n",
        "os.getcwd()"
      ]
    },
    {
      "cell_type": "markdown",
      "metadata": {
        "id": "idowGpeQPIm2"
      },
      "source": [
        "## **4.2. Start training**\n",
        "---"
      ]
    },
    {
      "cell_type": "code",
      "execution_count": null,
      "metadata": {
        "id": "OXxKZhGMqguz"
      },
      "outputs": [],
      "source": [
        "# @title\n",
        "worker = c.get_colab_worker(worker_config=train_config, wandb_config=wandb_config)\n",
        "for epoch_loss in worker.train():\n",
        "  continue"
      ]
    }
  ],
  "metadata": {
    "accelerator": "GPU",
    "colab": {
      "gpuType": "T4",
      "include_colab_link": true,
      "provenance": []
    },
    "kernelspec": {
      "display_name": "Python 3",
      "name": "python3"
    },
    "language_info": {
      "codemirror_mode": {
        "name": "ipython",
        "version": 3
      },
      "file_extension": ".py",
      "mimetype": "text/x-python",
      "name": "python",
      "nbconvert_exporter": "python",
      "pygments_lexer": "ipython3",
      "version": "3.9.18"
    }
  },
  "nbformat": 4,
  "nbformat_minor": 0
}
