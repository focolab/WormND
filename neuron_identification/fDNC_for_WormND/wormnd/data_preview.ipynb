{
 "cells": [
  {
   "cell_type": "code",
   "execution_count": 2,
   "metadata": {},
   "outputs": [],
   "source": [
    "import numpy as np\n",
    "\n",
    "from __init__ import PATH_DATA\n",
    "from wormnd.datasets_NWB import NWB_data\n",
    "from wormnd.utils import get_all_files\n"
   ]
  },
  {
   "cell_type": "code",
   "execution_count": 3,
   "metadata": {},
   "outputs": [],
   "source": [
    "\n",
    "path_nwb_data = PATH_DATA\n",
    "file_path_all = get_all_files(path_nwb_data) \n",
    "file_path_all = [file_path for file_path in file_path_all if file_path.endswith('.nwb')]\n",
    "\n",
    "neuropal_data_all = {}\n",
    "data_info_all = []\n",
    "for file_path in file_path_all:\n",
    "    data_NWB = NWB_data(file_path)\n",
    "    identifier = data_NWB.identifier\n",
    "    blobs, RGB = data_NWB.preprocess()\n",
    "    max_image = np.max(RGB)\n",
    "    H, W, D, C = RGB.shape\n",
    "    print(identifier, H, W, D, C, max_image)\n",
    "    data_info_all.append([file_path, identifier, H, W, D, C, max_image])"
   ]
  },
  {
   "cell_type": "code",
   "execution_count": null,
   "metadata": {},
   "outputs": [],
   "source": [
    "\n",
    "for temp in data_info_all:\n",
    "    print(temp)"
   ]
  },
  {
   "cell_type": "code",
   "execution_count": null,
   "metadata": {},
   "outputs": [],
   "source": [
    "import matplotlib.pyplot as plt\n",
    "\n",
    "z_depth = RGB.shape[2]\n",
    "\n",
    "if z_depth == 21:\n",
    "    M, N = 3, 7\n",
    "elif z_depth == 45:\n",
    "    M, N = 5, 9\n",
    "elif z_depth == 31:\n",
    "    M, N = 4, 8\n",
    "elif z_depth == 28:\n",
    "    M, N = 5, 6\n",
    "elif z_depth == 29:\n",
    "    M, N = 4, 8\n",
    "elif z_depth == 48:\n",
    "    M, N = 5, 10\n",
    "elif z_depth == 41:\n",
    "    M, N = 5, 9\n",
    "\n",
    "fig_id = 0\n",
    "plt.figure(figsize=(20, 16))\n",
    "for id_z in range(z_depth):\n",
    "    plt.subplot(M, N, fig_id + 1)\n",
    "    plt.imshow(RGB[:, :, id_z, :] / max_image)\n",
    "    plt.title(f'{id_z}')\n",
    "    plt.colorbar()\n",
    "    fig_id += 1\n",
    "\n",
    "fig_id = 0\n",
    "for id_z in range(z_depth):\n",
    "    if id_z % 3 == 0:\n",
    "        plt.figure()\n",
    "    plt.subplot(1, 3, id_z % 3 + 1)\n",
    "    plt.imshow(RGB[:, :, id_z, :] / max_image)\n",
    "    plt.scatter(blobs['y'][np.asarray(blobs['z'].values, int) == id_z],\n",
    "                blobs['x'][np.asarray(blobs['z'].values, int) == id_z],\n",
    "                s=30, c='r')\n",
    "    plt.title(f'{id_z}')\n",
    "    # plt.colorbar()\n",
    "    fig_id += 1\n"
   ]
  },
  {
   "cell_type": "code",
   "execution_count": null,
   "metadata": {},
   "outputs": [],
   "source": []
  },
  {
   "cell_type": "code",
   "execution_count": null,
   "metadata": {},
   "outputs": [],
   "source": [
    "from __init__ import * \n",
    "from wormnd.datasets_NWB import load_nwb_data_for_fDNC\n",
    "combined_data_all = load_nwb_data_for_fDNC(path_from=PATH_DATA, path_to=PATH_DATA_PKL, need_normalization=False)\n"
   ]
  }
 ],
 "metadata": {
  "kernelspec": {
   "display_name": "meta",
   "language": "python",
   "name": "python3"
  },
  "language_info": {
   "codemirror_mode": {
    "name": "ipython",
    "version": 3
   },
   "file_extension": ".py",
   "mimetype": "text/x-python",
   "name": "python",
   "nbconvert_exporter": "python",
   "pygments_lexer": "ipython3",
   "version": "3.9.18"
  }
 },
 "nbformat": 4,
 "nbformat_minor": 2
}
