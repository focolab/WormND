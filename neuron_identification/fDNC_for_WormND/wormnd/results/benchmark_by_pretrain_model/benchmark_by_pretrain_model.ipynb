{
 "cells": [
  {
   "cell_type": "code",
   "execution_count": 18,
   "metadata": {},
   "outputs": [],
   "source": [
    "\n",
    "import os\n",
    "import pandas as pd\n",
    "\n",
    "name = os.path.join(os.getcwd(), 'result', 'fDNC_pretrain__acc_top1_and_top5_combined.csv')  \n",
    "name = os.path.join(os.getcwd(), 'result', 'fDNC_pretrain_model___acc_top1_and_top5_combined.csv')  \n",
    "accs_full_fDNC = pd.read_csv(name)\n",
    "accs_full_fDNC['Filename_1'] = accs_full_fDNC['Filename']"
   ]
  },
  {
   "cell_type": "code",
   "execution_count": 19,
   "metadata": {},
   "outputs": [
    {
     "data": {
      "text/plain": [
       "['6',\n",
       " '7',\n",
       " '2022-12-21-06',\n",
       " '20221106-21-00-09',\n",
       " '20230322-20-16-50',\n",
       " '5',\n",
       " '2023-01-06-08',\n",
       " '4',\n",
       " '20230918-17-21-0',\n",
       " '2021-12-03-w00-NP1',\n",
       " '20221106-21-47-31',\n",
       " '20230322-22-43-03',\n",
       " '20230506-12-56-00',\n",
       " '20230506-14-24-57',\n",
       " '1',\n",
       " '38_YAaDV',\n",
       " '2023-01-16-08',\n",
       " '20230510-13-25-46',\n",
       " '56_YAaDV',\n",
       " '20190928_08',\n",
       " '3',\n",
       " '2023-01-16-22',\n",
       " '2',\n",
       " '2023-01-13-07',\n",
       " '20191104_10',\n",
       " '20190929_06',\n",
       " '20230928-14-27-0',\n",
       " '64_YAaDV',\n",
       " '2023-01-23-15',\n",
       " '20190929_07',\n",
       " '2023-01-17-07',\n",
       " '20191030_03',\n",
       " '20190929_05',\n",
       " '2022-03-05-w00-NP1',\n",
       " '20190925_04',\n",
       " '11_YAaLR',\n",
       " '76_YAaDV',\n",
       " '2022-07-15-12',\n",
       " '20191030_07',\n",
       " '20190925_01',\n",
       " '2023-01-17-01',\n",
       " '20230928-11-14-0',\n",
       " '2023-01-09-15',\n",
       " '20190929_03',\n",
       " '20231013-11-11-0',\n",
       " '20190929_02',\n",
       " '20221028-18-48-00',\n",
       " '2023-01-19-08',\n",
       " '2023-01-23-21',\n",
       " '2022-02-12-w01-NP1',\n",
       " '20230909-16-48-09',\n",
       " '2023-01-05-18',\n",
       " '2023-01-23-08',\n",
       " '2023-01-10-07',\n",
       " '20221215-20-02-49',\n",
       " '2022-06-14-01',\n",
       " '2022-02-11-w03-NP1',\n",
       " '20230904-15-09-05',\n",
       " '20230928-16-0-0',\n",
       " '20230510-15-49-47',\n",
       " '2023-01-09-22',\n",
       " '2022-02-22-w04-NP1',\n",
       " '20191104_08',\n",
       " '2022-02-12-w00-NP1',\n",
       " '2022-06-14-07',\n",
       " '2022-06-14-13',\n",
       " '20230506-15-33-51',\n",
       " '20230322-18-57-04',\n",
       " '2022-06-28-01',\n",
       " '20_YAaLR',\n",
       " '2022-04-01-w00-NP1',\n",
       " '2023-03-07-01',\n",
       " '20230904-15-59-40',\n",
       " '20230918-13-21-0',\n",
       " '20190928_05',\n",
       " '20190928_11',\n",
       " '20190928_07',\n",
       " '20190928_13',\n",
       " '62_YAaLR',\n",
       " '20230510-12-53-34',\n",
       " '2023-01-06-01',\n",
       " '7_YAaLR',\n",
       " '2023-01-18-01',\n",
       " '20230506-15-01-45',\n",
       " '2022-04-26-w00-NP1',\n",
       " '55_YAaDV',\n",
       " '9',\n",
       " '20190924_02',\n",
       " '2022-07-20-01',\n",
       " '20221106-21-23-19',\n",
       " '20190924_03',\n",
       " '2023-01-16-01',\n",
       " '8',\n",
       " '2023-01-16-15',\n",
       " '2022-04-26-w01-NP1',\n",
       " '20190928_03',\n",
       " '20190928_01',\n",
       " '20230904-14-30-52',\n",
       " '20230322-21-41-10',\n",
       " '20190924_01',\n",
       " '20231013-13-28-0',\n",
       " '70_YAaLR',\n",
       " '2022-01-22-w04-NP1',\n",
       " '20230918-9-54-0']"
      ]
     },
     "execution_count": 19,
     "metadata": {},
     "output_type": "execute_result"
    }
   ],
   "source": [
    "accs_full_fDNC['Filename'].tolist()"
   ]
  },
  {
   "cell_type": "code",
   "execution_count": 20,
   "metadata": {},
   "outputs": [
    {
     "data": {
      "text/html": [
       "<div>\n",
       "<style scoped>\n",
       "    .dataframe tbody tr th:only-of-type {\n",
       "        vertical-align: middle;\n",
       "    }\n",
       "\n",
       "    .dataframe tbody tr th {\n",
       "        vertical-align: top;\n",
       "    }\n",
       "\n",
       "    .dataframe thead th {\n",
       "        text-align: right;\n",
       "    }\n",
       "</style>\n",
       "<table border=\"1\" class=\"dataframe\">\n",
       "  <thead>\n",
       "    <tr style=\"text-align: right;\">\n",
       "      <th></th>\n",
       "      <th>Filename</th>\n",
       "      <th>Best_template</th>\n",
       "      <th>top1</th>\n",
       "      <th>top2</th>\n",
       "      <th>top3</th>\n",
       "      <th>top4</th>\n",
       "      <th>top5</th>\n",
       "      <th>cost</th>\n",
       "      <th>Filename_1</th>\n",
       "    </tr>\n",
       "  </thead>\n",
       "  <tbody>\n",
       "    <tr>\n",
       "      <th>0</th>\n",
       "      <td>6</td>\n",
       "      <td>2</td>\n",
       "      <td>0.601770</td>\n",
       "      <td>-1</td>\n",
       "      <td>-1</td>\n",
       "      <td>-1</td>\n",
       "      <td>0.761062</td>\n",
       "      <td>4.432300</td>\n",
       "      <td>6</td>\n",
       "    </tr>\n",
       "    <tr>\n",
       "      <th>1</th>\n",
       "      <td>7</td>\n",
       "      <td>9</td>\n",
       "      <td>0.846154</td>\n",
       "      <td>-1</td>\n",
       "      <td>-1</td>\n",
       "      <td>-1</td>\n",
       "      <td>0.931624</td>\n",
       "      <td>6.218977</td>\n",
       "      <td>7</td>\n",
       "    </tr>\n",
       "    <tr>\n",
       "      <th>2</th>\n",
       "      <td>2022-12-21-06</td>\n",
       "      <td>2023-01-10-07</td>\n",
       "      <td>0.417910</td>\n",
       "      <td>-1</td>\n",
       "      <td>-1</td>\n",
       "      <td>-1</td>\n",
       "      <td>0.671642</td>\n",
       "      <td>6.167896</td>\n",
       "      <td>2022-12-21-06</td>\n",
       "    </tr>\n",
       "    <tr>\n",
       "      <th>3</th>\n",
       "      <td>20221106-21-00-09</td>\n",
       "      <td>20221215-20-02-49</td>\n",
       "      <td>0.525862</td>\n",
       "      <td>-1</td>\n",
       "      <td>-1</td>\n",
       "      <td>-1</td>\n",
       "      <td>0.862069</td>\n",
       "      <td>4.023531</td>\n",
       "      <td>20221106-21-00-09</td>\n",
       "    </tr>\n",
       "    <tr>\n",
       "      <th>4</th>\n",
       "      <td>20230322-20-16-50</td>\n",
       "      <td>20230322-21-41-10</td>\n",
       "      <td>0.569106</td>\n",
       "      <td>-1</td>\n",
       "      <td>-1</td>\n",
       "      <td>-1</td>\n",
       "      <td>0.715447</td>\n",
       "      <td>3.950113</td>\n",
       "      <td>20230322-20-16-50</td>\n",
       "    </tr>\n",
       "    <tr>\n",
       "      <th>...</th>\n",
       "      <td>...</td>\n",
       "      <td>...</td>\n",
       "      <td>...</td>\n",
       "      <td>...</td>\n",
       "      <td>...</td>\n",
       "      <td>...</td>\n",
       "      <td>...</td>\n",
       "      <td>...</td>\n",
       "      <td>...</td>\n",
       "    </tr>\n",
       "    <tr>\n",
       "      <th>99</th>\n",
       "      <td>20190924_01</td>\n",
       "      <td>20190925_01</td>\n",
       "      <td>0.342541</td>\n",
       "      <td>-1</td>\n",
       "      <td>-1</td>\n",
       "      <td>-1</td>\n",
       "      <td>0.552486</td>\n",
       "      <td>6.012658</td>\n",
       "      <td>20190924_01</td>\n",
       "    </tr>\n",
       "    <tr>\n",
       "      <th>100</th>\n",
       "      <td>20231013-13-28-0</td>\n",
       "      <td>20231013-11-11-0</td>\n",
       "      <td>0.084416</td>\n",
       "      <td>-1</td>\n",
       "      <td>-1</td>\n",
       "      <td>-1</td>\n",
       "      <td>0.376623</td>\n",
       "      <td>17.020940</td>\n",
       "      <td>20231013-13-28-0</td>\n",
       "    </tr>\n",
       "    <tr>\n",
       "      <th>101</th>\n",
       "      <td>70_YAaLR</td>\n",
       "      <td>20_YAaLR</td>\n",
       "      <td>0.471503</td>\n",
       "      <td>-1</td>\n",
       "      <td>-1</td>\n",
       "      <td>-1</td>\n",
       "      <td>0.699482</td>\n",
       "      <td>6.656469</td>\n",
       "      <td>70_YAaLR</td>\n",
       "    </tr>\n",
       "    <tr>\n",
       "      <th>102</th>\n",
       "      <td>2022-01-22-w04-NP1</td>\n",
       "      <td>2022-02-12-w01-NP1</td>\n",
       "      <td>0.552941</td>\n",
       "      <td>-1</td>\n",
       "      <td>-1</td>\n",
       "      <td>-1</td>\n",
       "      <td>0.764706</td>\n",
       "      <td>6.620923</td>\n",
       "      <td>2022-01-22-w04-NP1</td>\n",
       "    </tr>\n",
       "    <tr>\n",
       "      <th>103</th>\n",
       "      <td>20230918-9-54-0</td>\n",
       "      <td>20230918-17-21-0</td>\n",
       "      <td>0.353333</td>\n",
       "      <td>-1</td>\n",
       "      <td>-1</td>\n",
       "      <td>-1</td>\n",
       "      <td>0.560000</td>\n",
       "      <td>17.312691</td>\n",
       "      <td>20230918-9-54-0</td>\n",
       "    </tr>\n",
       "  </tbody>\n",
       "</table>\n",
       "<p>104 rows × 9 columns</p>\n",
       "</div>"
      ],
      "text/plain": [
       "               Filename       Best_template      top1  top2  top3  top4  \\\n",
       "0                     6                   2  0.601770    -1    -1    -1   \n",
       "1                     7                   9  0.846154    -1    -1    -1   \n",
       "2         2022-12-21-06       2023-01-10-07  0.417910    -1    -1    -1   \n",
       "3     20221106-21-00-09   20221215-20-02-49  0.525862    -1    -1    -1   \n",
       "4     20230322-20-16-50   20230322-21-41-10  0.569106    -1    -1    -1   \n",
       "..                  ...                 ...       ...   ...   ...   ...   \n",
       "99          20190924_01         20190925_01  0.342541    -1    -1    -1   \n",
       "100    20231013-13-28-0    20231013-11-11-0  0.084416    -1    -1    -1   \n",
       "101            70_YAaLR            20_YAaLR  0.471503    -1    -1    -1   \n",
       "102  2022-01-22-w04-NP1  2022-02-12-w01-NP1  0.552941    -1    -1    -1   \n",
       "103     20230918-9-54-0    20230918-17-21-0  0.353333    -1    -1    -1   \n",
       "\n",
       "         top5       cost          Filename_1  \n",
       "0    0.761062   4.432300                   6  \n",
       "1    0.931624   6.218977                   7  \n",
       "2    0.671642   6.167896       2022-12-21-06  \n",
       "3    0.862069   4.023531   20221106-21-00-09  \n",
       "4    0.715447   3.950113   20230322-20-16-50  \n",
       "..        ...        ...                 ...  \n",
       "99   0.552486   6.012658         20190924_01  \n",
       "100  0.376623  17.020940    20231013-13-28-0  \n",
       "101  0.699482   6.656469            70_YAaLR  \n",
       "102  0.764706   6.620923  2022-01-22-w04-NP1  \n",
       "103  0.560000  17.312691     20230918-9-54-0  \n",
       "\n",
       "[104 rows x 9 columns]"
      ]
     },
     "execution_count": 20,
     "metadata": {},
     "output_type": "execute_result"
    }
   ],
   "source": [
    "accs_full_fDNC"
   ]
  },
  {
   "cell_type": "code",
   "execution_count": 21,
   "metadata": {},
   "outputs": [],
   "source": [
    "# Skipping files that have obvious artifacts or known alignment issues\n",
    "skipfiles = ['20231013-9-30-0', '20230412-20-15-17', '2023-01-23-01', '20239828-11-14-0', '2023-01-05-01', '2023-01-10-14', '2022-06-28-07', '2022-07-26-01', '2023-01-19-15', '2022-07-15-06', '2022-08-02-01', '2023-01-09-08', '2023-01-09-28', '2023-01-10-14', '2023-01-17-14', '2023-01-19-22', '2023-01-23-01', '7_YAaLR', '11_YAaLR', '20_YAaLR', '38_YAaDV', '55_YAaDV', '56_YAaDV', '62_YAaLR', '64_YAaDV', '70_YAaLR', '76_YAaDV']"
   ]
  },
  {
   "cell_type": "code",
   "execution_count": 22,
   "metadata": {},
   "outputs": [
    {
     "data": {
      "text/html": [
       "<div>\n",
       "<style scoped>\n",
       "    .dataframe tbody tr th:only-of-type {\n",
       "        vertical-align: middle;\n",
       "    }\n",
       "\n",
       "    .dataframe tbody tr th {\n",
       "        vertical-align: top;\n",
       "    }\n",
       "\n",
       "    .dataframe thead th {\n",
       "        text-align: right;\n",
       "    }\n",
       "</style>\n",
       "<table border=\"1\" class=\"dataframe\">\n",
       "  <thead>\n",
       "    <tr style=\"text-align: right;\">\n",
       "      <th></th>\n",
       "      <th>Filename</th>\n",
       "      <th>Best_template</th>\n",
       "      <th>top1</th>\n",
       "      <th>top2</th>\n",
       "      <th>top3</th>\n",
       "      <th>top4</th>\n",
       "      <th>top5</th>\n",
       "      <th>cost</th>\n",
       "      <th>Filename_1</th>\n",
       "    </tr>\n",
       "  </thead>\n",
       "  <tbody>\n",
       "    <tr>\n",
       "      <th>15</th>\n",
       "      <td>38_YAaDV</td>\n",
       "      <td>70_YAaLR</td>\n",
       "      <td>0.015306</td>\n",
       "      <td>-1</td>\n",
       "      <td>-1</td>\n",
       "      <td>-1</td>\n",
       "      <td>0.204082</td>\n",
       "      <td>10.545957</td>\n",
       "      <td>38_YAaDV</td>\n",
       "    </tr>\n",
       "  </tbody>\n",
       "</table>\n",
       "</div>"
      ],
      "text/plain": [
       "    Filename Best_template      top1  top2  top3  top4      top5       cost  \\\n",
       "15  38_YAaDV      70_YAaLR  0.015306    -1    -1    -1  0.204082  10.545957   \n",
       "\n",
       "   Filename_1  \n",
       "15   38_YAaDV  "
      ]
     },
     "execution_count": 22,
     "metadata": {},
     "output_type": "execute_result"
    }
   ],
   "source": [
    "accs_full_fDNC[accs_full_fDNC['Filename_1']=='38_YAaDV']"
   ]
  },
  {
   "cell_type": "code",
   "execution_count": 23,
   "metadata": {},
   "outputs": [
    {
     "name": "stdout",
     "output_type": "stream",
     "text": [
      "   Unnamed: 0  Filename     Group Dataset  ID_skip\n",
      "0           0  56_YAaDV  original   NP_og    False\n",
      "1           1  38_YAaDV  original   NP_og    False\n",
      "2           2  76_YAaDV  original   NP_og    False\n",
      "3           3  11_YAaLR  original   NP_og    False\n",
      "4           4  64_YAaDV  original   NP_og    False\n"
     ]
    }
   ],
   "source": [
    "\n",
    "name = \"group_assigns.csv\" \n",
    "name = os.path.join(os.getcwd(), '..',  'group_assigns.csv')\n",
    "group_assigns_df = pd.read_csv(name) \n",
    "\n",
    "# group_original = group_assigns_df[group_assigns_df['Group'] == 'original']['Filename'].tolist()\n",
    "filenames = group_assigns_df['Filename'].tolist()\n",
    "print(group_assigns_df.head())\n",
    "\n",
    "\n"
   ]
  },
  {
   "cell_type": "code",
   "execution_count": 24,
   "metadata": {},
   "outputs": [
    {
     "name": "stdout",
     "output_type": "stream",
     "text": [
      "{'EY', 'SK2', 'NP_og', 'SK1', 'HL', 'SF', 'KK'}\n"
     ]
    }
   ],
   "source": [
    "print(set(group_assigns_df['Dataset']))\n"
   ]
  },
  {
   "cell_type": "code",
   "execution_count": 25,
   "metadata": {},
   "outputs": [
    {
     "name": "stdout",
     "output_type": "stream",
     "text": [
      "\n",
      "Merged DataFrame:\n",
      "   Unnamed: 0           Filename Group Dataset  ID_skip      Best_template  \\\n",
      "0          16                  6     1      HL    False                  2   \n",
      "1          15                  7     0      HL    False                  9   \n",
      "2          85      2022-12-21-06     0      SF    False      2023-01-10-07   \n",
      "3          56  20221106-21-00-09     1     SK1    False  20221215-20-02-49   \n",
      "4          57  20230322-20-16-50     2     SK1    False  20230322-21-41-10   \n",
      "\n",
      "       top1  top2  top3  top4      top5      cost         Filename_1  \n",
      "0  0.601770    -1    -1    -1  0.761062  4.432300                  6  \n",
      "1  0.846154    -1    -1    -1  0.931624  6.218977                  7  \n",
      "2  0.417910    -1    -1    -1  0.671642  6.167896      2022-12-21-06  \n",
      "3  0.525862    -1    -1    -1  0.862069  4.023531  20221106-21-00-09  \n",
      "4  0.569106    -1    -1    -1  0.715447  3.950113  20230322-20-16-50  \n",
      "{'EY', 'SK2', 'NP_og', 'SK1', 'HL', 'SF', 'KK'}\n"
     ]
    }
   ],
   "source": [
    "# Merge the DataFrames on the 'Filename' column\n",
    "merged_df = pd.merge(group_assigns_df, accs_full_fDNC, on='Filename', how='right')\n",
    "\n",
    "# Display the merged DataFrame\n",
    "print(\"\\nMerged DataFrame:\")\n",
    "print(merged_df.head())\n",
    "print(set(merged_df['Dataset']))\n",
    "\n"
   ]
  },
  {
   "cell_type": "code",
   "execution_count": 26,
   "metadata": {},
   "outputs": [],
   "source": [
    "df_dataset = merged_df[~merged_df['Filename'].isin(skipfiles)]"
   ]
  },
  {
   "cell_type": "code",
   "execution_count": 27,
   "metadata": {},
   "outputs": [
    {
     "name": "stdout",
     "output_type": "stream",
     "text": [
      "{'EY', 'SK2', 'SK1', 'HL', 'SF', 'KK'}\n"
     ]
    }
   ],
   "source": [
    "low_labels = ['HL','SF','SK1','SK2']\n",
    "\n",
    "high_labels = ['NP','EY','KK']\n",
    "\n",
    "print(set(df_dataset['Dataset']))\n"
   ]
  },
  {
   "cell_type": "code",
   "execution_count": 28,
   "metadata": {},
   "outputs": [],
   "source": [
    "import numpy as np\n",
    "all_labels = low_labels+high_labels"
   ]
  },
  {
   "cell_type": "code",
   "execution_count": 29,
   "metadata": {},
   "outputs": [
    {
     "name": "stdout",
     "output_type": "stream",
     "text": [
      "fDNC pretrain model average accuracy low labels:\n",
      "0.5239493634278402\n",
      "0.732141192373792\n",
      "fDNC pretrain model average accuracy high labels:\n",
      "0.2878479360398453\n",
      "0.49678656775109753\n",
      "fDNC pretrain model average accuracy:\n",
      "0.4511095613613311\n",
      "0.6595317869050884\n"
     ]
    }
   ],
   "source": [
    "\n",
    "print('fDNC pretrain model average accuracy low labels:')\n",
    "print(np.mean(np.asarray(df_dataset[df_dataset['Dataset'].isin(low_labels)]['top1'])))\n",
    "print(np.mean(np.asarray(df_dataset[df_dataset['Dataset'].isin(low_labels)]['top5']))) \n",
    "\n",
    "print('fDNC pretrain model average accuracy high labels:')\n",
    "print(np.mean(np.asarray(df_dataset[df_dataset['Dataset'].isin(high_labels)]['top1'])))\n",
    "print(np.mean(np.asarray(df_dataset[df_dataset['Dataset'].isin(high_labels)]['top5']))) \n",
    "\n",
    "print('fDNC pretrain model average accuracy:')\n",
    "print(np.mean(np.asarray(df_dataset[df_dataset['Dataset'].isin(all_labels)]['top1'])))\n",
    "print(np.mean(np.asarray(df_dataset[df_dataset['Dataset'].isin(all_labels)]['top5']))) "
   ]
  },
  {
   "cell_type": "code",
   "execution_count": 30,
   "metadata": {},
   "outputs": [
    {
     "name": "stdout",
     "output_type": "stream",
     "text": [
      "  Group  acc_top1_mean  acc_top1_std  acc_top5_mean  acc_top5_std\n",
      "0     0       0.564958      0.141644       0.741811      0.103353\n",
      "1     1       0.532094      0.134155       0.765919      0.096575\n",
      "2     2       0.554449      0.159267       0.751910      0.123786\n",
      "3     3       0.481534      0.486947       0.659532      0.534813\n",
      "4     4       0.479486      0.155900       0.735982      0.106267\n",
      "0.5225042522801622\n",
      "0.7310307468527155\n",
      "0.03589958080654212\n",
      "0.0371640874901724\n"
     ]
    }
   ],
   "source": [
    "# Group by 'Dataset' and compute mean and std for 'acc_top1' and 'acc_top5'\n",
    "group_stats = df_dataset[df_dataset['Dataset'].isin(low_labels)].groupby('Group').agg(\n",
    "    acc_top1_mean=('top1', 'mean'),\n",
    "    acc_top1_std=('top1', 'std'),\n",
    "    acc_top5_mean=('top5', 'mean'),\n",
    "    acc_top5_std=('top5', 'std')\n",
    ").reset_index()\n",
    "print(group_stats)\n",
    "print(np.mean(group_stats['acc_top1_mean']))\n",
    "print(np.mean(group_stats['acc_top5_mean']))\n",
    "print(np.std(group_stats['acc_top1_mean']))\n",
    "print(np.std(group_stats['acc_top5_mean']))"
   ]
  },
  {
   "cell_type": "code",
   "execution_count": 31,
   "metadata": {},
   "outputs": [
    {
     "name": "stdout",
     "output_type": "stream",
     "text": [
      "  Group  acc_top1_mean  acc_top1_std  acc_top5_mean  acc_top5_std\n",
      "0     0       0.229600      0.190188       0.419921      0.231388\n",
      "1     1       0.403841      0.155188       0.620781      0.090276\n",
      "2     2       0.228892      0.149691       0.454746      0.175312\n",
      "3     3       0.345591      0.149697       0.590968      0.127287\n",
      "4     4       0.254857      0.219843       0.417835      0.276971\n",
      "0.2925562902318777\n",
      "0.5008501668304342\n",
      "0.07019248347429828\n",
      "0.08725966719750243\n"
     ]
    }
   ],
   "source": [
    "\n",
    "# Group by 'Dataset' and compute mean and std for 'acc_top1' and 'acc_top5'\n",
    "group_stats = df_dataset[df_dataset['Dataset'].isin(high_labels)].groupby('Group').agg(\n",
    "    acc_top1_mean=('top1', 'mean'),\n",
    "    acc_top1_std=('top1', 'std'),\n",
    "    acc_top5_mean=('top5', 'mean'),\n",
    "    acc_top5_std=('top5', 'std')\n",
    ").reset_index()\n",
    "print(group_stats)\n",
    "print(np.mean(group_stats['acc_top1_mean']))\n",
    "print(np.mean(group_stats['acc_top5_mean']))\n",
    "print(np.std(group_stats['acc_top1_mean']))\n",
    "print(np.std(group_stats['acc_top5_mean']))\n"
   ]
  },
  {
   "cell_type": "code",
   "execution_count": 32,
   "metadata": {},
   "outputs": [
    {
     "name": "stdout",
     "output_type": "stream",
     "text": [
      "  Group  acc_top1_mean  acc_top1_std  acc_top5_mean  acc_top5_std\n",
      "0     0       0.458253      0.221969       0.639391      0.214399\n",
      "1     1       0.496468      0.147868       0.725603      0.113911\n",
      "2     2       0.445930      0.218956       0.652855      0.199329\n",
      "3     3       0.436220      0.405424       0.636677      0.436974\n",
      "4     4       0.417089      0.198108       0.647608      0.217995\n",
      "0.45079207005642025\n",
      "0.6604269241096403\n",
      "0.02650991281756666\n",
      "0.03309410795983355\n"
     ]
    }
   ],
   "source": [
    "\n",
    "# Group by 'Dataset' and compute mean and std for 'acc_top1' and 'acc_top5'\n",
    "group_stats = df_dataset[df_dataset['Dataset'].isin(all_labels)].groupby('Group').agg(\n",
    "    acc_top1_mean=('top1', 'mean'),\n",
    "    acc_top1_std=('top1', 'std'),\n",
    "    acc_top5_mean=('top5', 'mean'),\n",
    "    acc_top5_std=('top5', 'std')\n",
    ").reset_index()\n",
    "print(group_stats)\n",
    "print(np.mean(group_stats['acc_top1_mean']))\n",
    "print(np.mean(group_stats['acc_top5_mean']))\n",
    "print(np.std(group_stats['acc_top1_mean']))\n",
    "print(np.std(group_stats['acc_top5_mean']))"
   ]
  },
  {
   "cell_type": "code",
   "execution_count": 33,
   "metadata": {},
   "outputs": [],
   "source": [
    "# # Group by 'Dataset' and compute mean and std for 'acc_top1' and 'acc_top5'\n",
    "# group_stats = merged_df.groupby('Dataset').agg(\n",
    "#     acc_top1_mean=('top1', 'mean'),\n",
    "#     acc_top1_std=('top1', 'std'),\n",
    "#     acc_top5_mean=('top5', 'mean'),\n",
    "#     acc_top5_std=('top5', 'std')\n",
    "# ).reset_index()"
   ]
  }
 ],
 "metadata": {
  "kernelspec": {
   "display_name": "meta",
   "language": "python",
   "name": "python3"
  },
  "language_info": {
   "codemirror_mode": {
    "name": "ipython",
    "version": 3
   },
   "file_extension": ".py",
   "mimetype": "text/x-python",
   "name": "python",
   "nbconvert_exporter": "python",
   "pygments_lexer": "ipython3",
   "version": "3.9.18"
  }
 },
 "nbformat": 4,
 "nbformat_minor": 2
}
