{
 "cells": [
  {
   "cell_type": "code",
   "execution_count": 1,
   "metadata": {},
   "outputs": [],
   "source": [
    "import os \n",
    "# print(os.getcwd())"
   ]
  },
  {
   "cell_type": "code",
   "execution_count": 2,
   "metadata": {},
   "outputs": [],
   "source": [
    "import os \n",
    "import sys \n",
    "def add_path(path):\n",
    "    if path not in sys.path:\n",
    "        sys.path.insert(0, path)\n",
    "this_dir = os.getcwd()\n",
    "lib_path = os.path.join(os.getcwd(), '..', '..')\n",
    "# print(lib_path)\n",
    "add_path(lib_path)"
   ]
  },
  {
   "cell_type": "code",
   "execution_count": 10,
   "metadata": {},
   "outputs": [],
   "source": [
    "\n",
    "\n",
    "import pandas as pd\n",
    " \n",
    "# fDNC_train_wo_HL__acc_top1_and_top5_and_cost lab_split.csv\n",
    "name = '/Users/lengyuner/Desktop/fDNC_Neuron_ID-master/result/lab_split/fDNC_all__acc_top1_and_top5_combined lab_split.csv'\n",
    "\n",
    "name = \"pkl_data_for_fDNC/benchmark_by_lab_split/result/fDNC_all__acc_top1_and_top5_combined lab_split.csv\"\n",
    "name = os.path.join(os.getcwd(), 'result', 'fDNC_all__acc_top1_and_top5_combined lab_split.csv')\n",
    "accs_full_fDNC = pd.read_csv(name)\n",
    "\n",
    "accs_full_fDNC['Filename_1'] = accs_full_fDNC['Filename']\n",
    "Filename_list_ = accs_full_fDNC['Filename'].tolist()"
   ]
  },
  {
   "cell_type": "code",
   "execution_count": null,
   "metadata": {},
   "outputs": [],
   "source": []
  },
  {
   "cell_type": "code",
   "execution_count": 11,
   "metadata": {},
   "outputs": [
    {
     "data": {
      "text/html": [
       "<div>\n",
       "<style scoped>\n",
       "    .dataframe tbody tr th:only-of-type {\n",
       "        vertical-align: middle;\n",
       "    }\n",
       "\n",
       "    .dataframe tbody tr th {\n",
       "        vertical-align: top;\n",
       "    }\n",
       "\n",
       "    .dataframe thead th {\n",
       "        text-align: right;\n",
       "    }\n",
       "</style>\n",
       "<table border=\"1\" class=\"dataframe\">\n",
       "  <thead>\n",
       "    <tr style=\"text-align: right;\">\n",
       "      <th></th>\n",
       "      <th>Filename</th>\n",
       "      <th>Best_template</th>\n",
       "      <th>top1</th>\n",
       "      <th>top2</th>\n",
       "      <th>top3</th>\n",
       "      <th>top4</th>\n",
       "      <th>top5</th>\n",
       "      <th>cost</th>\n",
       "      <th>task</th>\n",
       "      <th>Filename_1</th>\n",
       "    </tr>\n",
       "  </thead>\n",
       "  <tbody>\n",
       "    <tr>\n",
       "      <th>0</th>\n",
       "      <td>6</td>\n",
       "      <td>2</td>\n",
       "      <td>0.699115</td>\n",
       "      <td>0.752212</td>\n",
       "      <td>0.796460</td>\n",
       "      <td>0.805310</td>\n",
       "      <td>0.805310</td>\n",
       "      <td>5.059727</td>\n",
       "      <td>train_wo_HL</td>\n",
       "      <td>6</td>\n",
       "    </tr>\n",
       "    <tr>\n",
       "      <th>1</th>\n",
       "      <td>7</td>\n",
       "      <td>9</td>\n",
       "      <td>0.786325</td>\n",
       "      <td>0.880342</td>\n",
       "      <td>0.931624</td>\n",
       "      <td>0.940171</td>\n",
       "      <td>0.940171</td>\n",
       "      <td>4.530505</td>\n",
       "      <td>train_wo_HL</td>\n",
       "      <td>7</td>\n",
       "    </tr>\n",
       "    <tr>\n",
       "      <th>2</th>\n",
       "      <td>5</td>\n",
       "      <td>4</td>\n",
       "      <td>0.837398</td>\n",
       "      <td>0.894309</td>\n",
       "      <td>0.926829</td>\n",
       "      <td>0.926829</td>\n",
       "      <td>0.943089</td>\n",
       "      <td>4.474000</td>\n",
       "      <td>train_wo_HL</td>\n",
       "      <td>5</td>\n",
       "    </tr>\n",
       "    <tr>\n",
       "      <th>3</th>\n",
       "      <td>4</td>\n",
       "      <td>1</td>\n",
       "      <td>0.819672</td>\n",
       "      <td>0.885246</td>\n",
       "      <td>0.893443</td>\n",
       "      <td>0.901639</td>\n",
       "      <td>0.901639</td>\n",
       "      <td>4.122531</td>\n",
       "      <td>train_wo_HL</td>\n",
       "      <td>4</td>\n",
       "    </tr>\n",
       "    <tr>\n",
       "      <th>4</th>\n",
       "      <td>1</td>\n",
       "      <td>4</td>\n",
       "      <td>0.831858</td>\n",
       "      <td>0.876106</td>\n",
       "      <td>0.902655</td>\n",
       "      <td>0.902655</td>\n",
       "      <td>0.920354</td>\n",
       "      <td>3.967013</td>\n",
       "      <td>train_wo_HL</td>\n",
       "      <td>1</td>\n",
       "    </tr>\n",
       "    <tr>\n",
       "      <th>...</th>\n",
       "      <td>...</td>\n",
       "      <td>...</td>\n",
       "      <td>...</td>\n",
       "      <td>...</td>\n",
       "      <td>...</td>\n",
       "      <td>...</td>\n",
       "      <td>...</td>\n",
       "      <td>...</td>\n",
       "      <td>...</td>\n",
       "      <td>...</td>\n",
       "    </tr>\n",
       "    <tr>\n",
       "      <th>89</th>\n",
       "      <td>2023-01-06-01</td>\n",
       "      <td>2023-01-09-15</td>\n",
       "      <td>0.571429</td>\n",
       "      <td>0.688312</td>\n",
       "      <td>0.714286</td>\n",
       "      <td>0.753247</td>\n",
       "      <td>0.753247</td>\n",
       "      <td>7.283980</td>\n",
       "      <td>train_wo_SF</td>\n",
       "      <td>2023-01-06-01</td>\n",
       "    </tr>\n",
       "    <tr>\n",
       "      <th>90</th>\n",
       "      <td>2023-01-18-01</td>\n",
       "      <td>2022-08-02-01</td>\n",
       "      <td>0.633333</td>\n",
       "      <td>0.733333</td>\n",
       "      <td>0.777778</td>\n",
       "      <td>0.788889</td>\n",
       "      <td>0.811111</td>\n",
       "      <td>4.867930</td>\n",
       "      <td>train_wo_SF</td>\n",
       "      <td>2023-01-18-01</td>\n",
       "    </tr>\n",
       "    <tr>\n",
       "      <th>91</th>\n",
       "      <td>2022-07-20-01</td>\n",
       "      <td>2022-08-02-01</td>\n",
       "      <td>0.525773</td>\n",
       "      <td>0.639175</td>\n",
       "      <td>0.701031</td>\n",
       "      <td>0.731959</td>\n",
       "      <td>0.762887</td>\n",
       "      <td>6.051857</td>\n",
       "      <td>train_wo_SF</td>\n",
       "      <td>2022-07-20-01</td>\n",
       "    </tr>\n",
       "    <tr>\n",
       "      <th>92</th>\n",
       "      <td>2023-01-16-01</td>\n",
       "      <td>2022-08-02-01</td>\n",
       "      <td>0.611765</td>\n",
       "      <td>0.658824</td>\n",
       "      <td>0.717647</td>\n",
       "      <td>0.741176</td>\n",
       "      <td>0.752941</td>\n",
       "      <td>5.782781</td>\n",
       "      <td>train_wo_SF</td>\n",
       "      <td>2023-01-16-01</td>\n",
       "    </tr>\n",
       "    <tr>\n",
       "      <th>93</th>\n",
       "      <td>2023-01-16-15</td>\n",
       "      <td>2022-08-02-01</td>\n",
       "      <td>0.527473</td>\n",
       "      <td>0.670330</td>\n",
       "      <td>0.758242</td>\n",
       "      <td>0.802198</td>\n",
       "      <td>0.802198</td>\n",
       "      <td>6.465119</td>\n",
       "      <td>train_wo_SF</td>\n",
       "      <td>2023-01-16-15</td>\n",
       "    </tr>\n",
       "  </tbody>\n",
       "</table>\n",
       "<p>94 rows × 10 columns</p>\n",
       "</div>"
      ],
      "text/plain": [
       "         Filename  Best_template      top1      top2      top3      top4  \\\n",
       "0               6              2  0.699115  0.752212  0.796460  0.805310   \n",
       "1               7              9  0.786325  0.880342  0.931624  0.940171   \n",
       "2               5              4  0.837398  0.894309  0.926829  0.926829   \n",
       "3               4              1  0.819672  0.885246  0.893443  0.901639   \n",
       "4               1              4  0.831858  0.876106  0.902655  0.902655   \n",
       "..            ...            ...       ...       ...       ...       ...   \n",
       "89  2023-01-06-01  2023-01-09-15  0.571429  0.688312  0.714286  0.753247   \n",
       "90  2023-01-18-01  2022-08-02-01  0.633333  0.733333  0.777778  0.788889   \n",
       "91  2022-07-20-01  2022-08-02-01  0.525773  0.639175  0.701031  0.731959   \n",
       "92  2023-01-16-01  2022-08-02-01  0.611765  0.658824  0.717647  0.741176   \n",
       "93  2023-01-16-15  2022-08-02-01  0.527473  0.670330  0.758242  0.802198   \n",
       "\n",
       "        top5      cost         task     Filename_1  \n",
       "0   0.805310  5.059727  train_wo_HL              6  \n",
       "1   0.940171  4.530505  train_wo_HL              7  \n",
       "2   0.943089  4.474000  train_wo_HL              5  \n",
       "3   0.901639  4.122531  train_wo_HL              4  \n",
       "4   0.920354  3.967013  train_wo_HL              1  \n",
       "..       ...       ...          ...            ...  \n",
       "89  0.753247  7.283980  train_wo_SF  2023-01-06-01  \n",
       "90  0.811111  4.867930  train_wo_SF  2023-01-18-01  \n",
       "91  0.762887  6.051857  train_wo_SF  2022-07-20-01  \n",
       "92  0.752941  5.782781  train_wo_SF  2023-01-16-01  \n",
       "93  0.802198  6.465119  train_wo_SF  2023-01-16-15  \n",
       "\n",
       "[94 rows x 10 columns]"
      ]
     },
     "execution_count": 11,
     "metadata": {},
     "output_type": "execute_result"
    }
   ],
   "source": [
    "accs_full_fDNC"
   ]
  },
  {
   "cell_type": "code",
   "execution_count": 14,
   "metadata": {},
   "outputs": [],
   "source": [
    "# Skipping files that have obvious artifacts or known alignment issues\n",
    "skipfiles = ['20231013-9-30-0', '20230412-20-15-17', '2023-01-23-01', '20239828-11-14-0', '2023-01-05-01', '2023-01-10-14', '2022-06-28-07', '2022-07-26-01', '2023-01-19-15', '2022-07-15-06', '2022-08-02-01', '2023-01-09-08', '2023-01-09-28', '2023-01-10-14', '2023-01-17-14', '2023-01-19-22', '2023-01-23-01', '7_YAaLR', '11_YAaLR', '20_YAaLR', '38_YAaDV', '55_YAaDV', '56_YAaDV', '62_YAaLR', '64_YAaDV', '70_YAaLR', '76_YAaDV']\n",
    "# accs_full_fDNC[accs_full_fDNC['Filename_1']=='38_YAaDV']"
   ]
  },
  {
   "cell_type": "code",
   "execution_count": 16,
   "metadata": {},
   "outputs": [
    {
     "name": "stdout",
     "output_type": "stream",
     "text": [
      "   Unnamed: 0  Filename     Group Dataset  ID_skip\n",
      "0           0  56_YAaDV  original   NP_og    False\n",
      "1           1  38_YAaDV  original   NP_og    False\n",
      "2           2  76_YAaDV  original   NP_og    False\n",
      "3           3  11_YAaLR  original   NP_og    False\n",
      "4           4  64_YAaDV  original   NP_og    False\n"
     ]
    }
   ],
   "source": [
    "\n",
    "name = \"group_assigns.csv\" \n",
    "name = os.path.join(os.getcwd(), '..',  'group_assigns.csv')\n",
    "group_assigns_df = pd.read_csv(name) \n",
    "\n",
    "# group_original = group_assigns_df[group_assigns_df['Group'] == 'original']['Filename'].tolist()\n",
    "filenames = group_assigns_df['Filename'].tolist()\n",
    "print(group_assigns_df.head())\n",
    "\n",
    "\n"
   ]
  },
  {
   "cell_type": "code",
   "execution_count": 17,
   "metadata": {},
   "outputs": [
    {
     "name": "stdout",
     "output_type": "stream",
     "text": [
      "{'EY', 'SF', 'NP_og', 'SK1', 'SK2', 'HL', 'KK'}\n"
     ]
    }
   ],
   "source": [
    "print(set(group_assigns_df['Dataset']))\n"
   ]
  },
  {
   "cell_type": "code",
   "execution_count": 18,
   "metadata": {},
   "outputs": [
    {
     "name": "stdout",
     "output_type": "stream",
     "text": [
      "\n",
      "Merged DataFrame:\n",
      "   Unnamed: 0 Filename Group Dataset  ID_skip Best_template      top1  \\\n",
      "0          16        6     1      HL    False             2  0.699115   \n",
      "1          15        7     0      HL    False             9  0.786325   \n",
      "2          14        5     4      HL    False             4  0.837398   \n",
      "3          13        4     3      HL    False             1  0.819672   \n",
      "4          12        1     2      HL    False             4  0.831858   \n",
      "\n",
      "       top2      top3      top4      top5      cost         task Filename_1  \n",
      "0  0.752212  0.796460  0.805310  0.805310  5.059727  train_wo_HL          6  \n",
      "1  0.880342  0.931624  0.940171  0.940171  4.530505  train_wo_HL          7  \n",
      "2  0.894309  0.926829  0.926829  0.943089  4.474000  train_wo_HL          5  \n",
      "3  0.885246  0.893443  0.901639  0.901639  4.122531  train_wo_HL          4  \n",
      "4  0.876106  0.902655  0.902655  0.920354  3.967013  train_wo_HL          1  \n",
      "{'EY', 'SF', 'SK1', 'SK2', 'HL', 'KK'}\n"
     ]
    }
   ],
   "source": [
    "# Merge the DataFrames on the 'Filename' column\n",
    "merged_df = pd.merge(group_assigns_df, accs_full_fDNC, on='Filename', how='right')\n",
    "\n",
    "# Display the merged DataFrame\n",
    "print(\"\\nMerged DataFrame:\")\n",
    "print(merged_df.head())\n",
    "print(set(merged_df['Dataset']))\n",
    "\n"
   ]
  },
  {
   "cell_type": "code",
   "execution_count": 19,
   "metadata": {},
   "outputs": [],
   "source": [
    "df_dataset = merged_df[~merged_df['Filename'].isin(skipfiles)]"
   ]
  },
  {
   "cell_type": "code",
   "execution_count": 20,
   "metadata": {},
   "outputs": [
    {
     "name": "stdout",
     "output_type": "stream",
     "text": [
      "{'EY', 'SF', 'SK1', 'SK2', 'HL', 'KK'}\n"
     ]
    }
   ],
   "source": [
    "low_labels = ['HL','SF','SK1','SK2']\n",
    "\n",
    "high_labels = ['NP','EY','KK']\n",
    "\n",
    "print(set(df_dataset['Dataset']))\n",
    "\n",
    "import numpy as np\n",
    "all_labels = low_labels+high_labels\n"
   ]
  },
  {
   "cell_type": "code",
   "execution_count": 21,
   "metadata": {},
   "outputs": [
    {
     "name": "stdout",
     "output_type": "stream",
     "text": [
      "  Dataset  acc_top1_mean  acc_top1_std  acc_top5_mean  acc_top5_std\n",
      "0      EY       0.440563      0.117216       0.692031      0.134548\n",
      "1      HL       0.773097      0.050805       0.903281      0.041836\n",
      "2      KK       0.232772      0.129401       0.401349      0.163094\n",
      "3      SF       0.554588      0.081467       0.756774      0.075215\n",
      "4     SK1       0.517464      0.094545       0.760620      0.089885\n",
      "5     SK2       0.761223      0.054647       0.908383      0.059211\n",
      "0.5466179185504202\n",
      "0.7370730088117637\n",
      "0.18619356046076255\n",
      "0.16963395830261552\n"
     ]
    }
   ],
   "source": [
    "# Group by 'Dataset' and compute mean and std for 'acc_top1' and 'acc_top5'\n",
    "group_stats = df_dataset[df_dataset['Dataset'].isin(all_labels)].groupby('Dataset').agg(\n",
    "    acc_top1_mean=('top1', 'mean'),\n",
    "    acc_top1_std=('top1', 'std'),\n",
    "    acc_top5_mean=('top5', 'mean'),\n",
    "    acc_top5_std=('top5', 'std')\n",
    ").reset_index()\n",
    "print(group_stats)\n",
    "print(np.mean(group_stats['acc_top1_mean']))\n",
    "print(np.mean(group_stats['acc_top5_mean']))\n",
    "print(np.std(group_stats['acc_top1_mean']))\n",
    "print(np.std(group_stats['acc_top5_mean']))\n",
    "\n",
    "\n",
    "\n"
   ]
  },
  {
   "cell_type": "code",
   "execution_count": null,
   "metadata": {},
   "outputs": [],
   "source": []
  }
 ],
 "metadata": {
  "kernelspec": {
   "display_name": "meta",
   "language": "python",
   "name": "python3"
  },
  "language_info": {
   "codemirror_mode": {
    "name": "ipython",
    "version": 3
   },
   "file_extension": ".py",
   "mimetype": "text/x-python",
   "name": "python",
   "nbconvert_exporter": "python",
   "pygments_lexer": "ipython3",
   "version": "3.9.18"
  }
 },
 "nbformat": 4,
 "nbformat_minor": 2
}
